{
 "cells": [
  {
   "cell_type": "markdown",
   "metadata": {},
   "source": [
    "# Lekcija 3.4"
   ]
  },
  {
   "cell_type": "markdown",
   "metadata": {},
   "source": [
    "Prvi zadatak\n",
    "1. Napravi listu TemperaturaČačak sa sledećim podacima [3, 3.5, 7.5, 12.5, 17, 20, 22.5, 22.5, 19, 14, 9, 4]. Izračunaj prosečnu vrednost u njoj i sačuvaj je u promenlјivoj Prosek. Koristeći funkciju round() i naredbu print, ispiši vrednost promenlјive Prosek zaokruženu na dve decimale. Podsećamo te da je prvi parametar funkcije round() vrednost koju treba zaokružiti, a drugi želјeni broj decimala. Kada se drugi parametar izostavi, realan broj biva zaokružen na najbliži ceo broj."
   ]
  },
  {
   "cell_type": "code",
   "execution_count": null,
   "metadata": {},
   "outputs": [],
   "source": []
  },
  {
   "cell_type": "code",
   "execution_count": null,
   "metadata": {},
   "outputs": [],
   "source": []
  },
  {
   "cell_type": "code",
   "execution_count": null,
   "metadata": {},
   "outputs": [],
   "source": []
  },
  {
   "cell_type": "markdown",
   "metadata": {},
   "source": [
    "Drugi zadatak\n",
    "1. Kreiraj listu svih tvojih ocena iz matematike u toku prvog polugodišta. Od nje napravi seriju podataka pod nazivom Ocene. Pomoću osnovnih statističkih funkcija odredi i prikaži prosečnu ocenu kao i broj petica iz matematike u prvom polugodištu. Prosečnu ocenu zaokruži na 1 decimalu."
   ]
  },
  {
   "cell_type": "code",
   "execution_count": null,
   "metadata": {},
   "outputs": [],
   "source": []
  },
  {
   "cell_type": "code",
   "execution_count": null,
   "metadata": {},
   "outputs": [],
   "source": []
  },
  {
   "cell_type": "code",
   "execution_count": null,
   "metadata": {},
   "outputs": [],
   "source": []
  },
  {
   "cell_type": "markdown",
   "metadata": {},
   "source": [
    "Treći zadatak\n",
    "1. Na osnovu liste TemperaturaČačak iz prvog zadatka napravi seriju Temperatura. Seriju Temperatura sortiraj prvo u opadajućem, a zatim i u rastućem redosledu. Oba rezultata obrade sačuvaj u promenlјive."
   ]
  },
  {
   "cell_type": "code",
   "execution_count": null,
   "metadata": {},
   "outputs": [],
   "source": []
  },
  {
   "cell_type": "code",
   "execution_count": null,
   "metadata": {},
   "outputs": [],
   "source": []
  },
  {
   "cell_type": "code",
   "execution_count": null,
   "metadata": {},
   "outputs": [],
   "source": []
  },
  {
   "cell_type": "markdown",
   "metadata": {},
   "source": [
    "Četvrti zadatak\n",
    "\n",
    "1. Napravi listu pod nazivom Težine u koju ćeš smestiti podatke o težini petoro tvojih najbolјih drugova u gramima. Od liste napravi seriju podataka. Zatim je preslikaj u novu seriju tako da podaci u njoj budu prikazani u kilogramima. Novu seriju sortiraj u rastućem redosledu."
   ]
  },
  {
   "cell_type": "code",
   "execution_count": null,
   "metadata": {},
   "outputs": [],
   "source": []
  },
  {
   "cell_type": "code",
   "execution_count": null,
   "metadata": {},
   "outputs": [],
   "source": []
  },
  {
   "cell_type": "code",
   "execution_count": null,
   "metadata": {},
   "outputs": [],
   "source": []
  },
  {
   "cell_type": "markdown",
   "metadata": {},
   "source": [
    "Peti zadatak\n",
    "\n",
    "1. Nad serijom tvojih ocena iz matematike u toku prvog polugodišta izvrši frekvencijsku analizu. Rezultate prikaži kao apsolutne i kao relativne vrednosti (procente).\n"
   ]
  },
  {
   "cell_type": "code",
   "execution_count": null,
   "metadata": {},
   "outputs": [],
   "source": []
  },
  {
   "cell_type": "code",
   "execution_count": null,
   "metadata": {},
   "outputs": [],
   "source": []
  },
  {
   "cell_type": "code",
   "execution_count": null,
   "metadata": {},
   "outputs": [],
   "source": []
  }
 ],
 "metadata": {
  "kernelspec": {
   "display_name": "Python 3",
   "language": "python",
   "name": "python3"
  },
  "language_info": {
   "codemirror_mode": {
    "name": "ipython",
    "version": 3
   },
   "file_extension": ".py",
   "mimetype": "text/x-python",
   "name": "python",
   "nbconvert_exporter": "python",
   "pygments_lexer": "ipython3",
   "version": "3.7.4"
  }
 },
 "nbformat": 4,
 "nbformat_minor": 2
}
