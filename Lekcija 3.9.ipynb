{
 "cells": [
  {
   "cell_type": "markdown",
   "metadata": {},
   "source": [
    "### Lekcija 3.9\n",
    "#### Izrada grafikona od listi"
   ]
  },
  {
   "cell_type": "markdown",
   "metadata": {},
   "source": [
    "Prvi zadatak\n",
    "1. Za date liste sa serijama podataka pomoću funkcija iz biblioteke **matplotlib** napravi linijski grafikon koji će predstavljati kretanje temperature u Čačku tokom godine.\n",
    "2. Grafikonu dodaj naslov *Prosečna mesečna temperatura u Čačku u 2019. godini*, oznaku *Mesec* na x-osi i oznaku *Temperatura* na y-osi."
   ]
  },
  {
   "cell_type": "code",
   "execution_count": null,
   "metadata": {},
   "outputs": [],
   "source": [
    "TemperatureČačak = [3, 3.5, 7.5, 12.5, 17, 20, 22.5, 22.5, 19, 14, 9, 4]\n",
    "Meseci = [\"Jan\",\"Feb\",\"Mar\",\"Apr\",\"Maj\",\"Jun\",\"Jul\",\"Avg\",\"Sep\",\"Okt\",\"Nov\",\"Dec\"]"
   ]
  },
  {
   "cell_type": "code",
   "execution_count": null,
   "metadata": {},
   "outputs": [],
   "source": []
  },
  {
   "cell_type": "code",
   "execution_count": null,
   "metadata": {},
   "outputs": [],
   "source": []
  },
  {
   "cell_type": "code",
   "execution_count": null,
   "metadata": {},
   "outputs": [],
   "source": []
  },
  {
   "cell_type": "markdown",
   "metadata": {},
   "source": [
    "Drugi zadatak\n",
    "1. Za date liste sa serijama podataka pomoću funkcija iz biblioteke **matplotlib** napravi stubičasti grafikon na kome će biti predstavljeni nemetali i njihove atomske težine. \n",
    "2. Grafikonu dodaj naslov *Nemetali*, oznaku *Naziv* na x-osi i oznaku *Atomska težina* na y-osi."
   ]
  },
  {
   "cell_type": "code",
   "execution_count": null,
   "metadata": {},
   "outputs": [],
   "source": [
    "AtomskaTežina = [12, 79.9, 19, 31, 14, 32.1, 35.5, 16, 126.9]\n",
    "Naziv = [\"Ugljenik\",\"Brom\",\"Fluor\",\"Fosfor\",\"Azot\",\"Sumpor\",\"Hlor\",\"Kiseonik\",\"Jod\"]"
   ]
  },
  {
   "cell_type": "code",
   "execution_count": null,
   "metadata": {},
   "outputs": [],
   "source": []
  },
  {
   "cell_type": "code",
   "execution_count": null,
   "metadata": {},
   "outputs": [],
   "source": []
  },
  {
   "cell_type": "code",
   "execution_count": null,
   "metadata": {},
   "outputs": [],
   "source": []
  },
  {
   "cell_type": "markdown",
   "metadata": {},
   "source": [
    "Treći zadatak\n",
    "1. Za date liste sa serijama podataka pomoću funkcija iz biblioteke **matplotlib** napravi sektorski grafikon na kome će biti predstavljeni kontinenti sa procentom teritorije koju zauzimaju. \n",
    "2. Grafikonu dodaj naslov *Odnos površine kontinenata* i legendu sa nazivima kontinenata."
   ]
  },
  {
   "cell_type": "code",
   "execution_count": null,
   "metadata": {},
   "outputs": [],
   "source": [
    "Površina = [30.3, 43.6, 10.4, 25.3, 17.6, 8.9, 13.6]\n",
    "Kontinent = [\"Azija\",\"Afrika\",\"Evropa\",\"Severna Amerika\",\"Južna Amerika\",\"Australija i Okeanija\",\"Antartik\"]"
   ]
  },
  {
   "cell_type": "code",
   "execution_count": null,
   "metadata": {},
   "outputs": [],
   "source": []
  },
  {
   "cell_type": "code",
   "execution_count": null,
   "metadata": {},
   "outputs": [],
   "source": []
  },
  {
   "cell_type": "code",
   "execution_count": null,
   "metadata": {},
   "outputs": [],
   "source": []
  },
  {
   "cell_type": "markdown",
   "metadata": {},
   "source": [
    "#### Izrada grafikona od tabelarnih podataka"
   ]
  },
  {
   "cell_type": "markdown",
   "metadata": {},
   "source": [
    "Prvi zadatak\n",
    "1. Za datu ugnježđenu listu *Okruzi* sa serijama podataka napravljena je tabela koja je sačuvana kao *UžaSrbija*. Pomoću funkcija iz biblioteke **matplotlib** napravi stubičasti grafikon grafikon na kome će biti predstavljeni okruzi sa njihovim brojem stanovnika. \n",
    "2. Grafikonu dodaj naslov *Površine okruga u Srbiji*, oznaku *Okrug* na x-osi i oznaku *Broj stanovnika* na y-osi."
   ]
  },
  {
   "cell_type": "code",
   "execution_count": 1,
   "metadata": {},
   "outputs": [],
   "source": [
    "import pandas as pd"
   ]
  },
  {
   "cell_type": "code",
   "execution_count": 2,
   "metadata": {},
   "outputs": [],
   "source": [
    "Okruzi = [[\"Mačvanski\",     \"Šabac\",       3268, 339644],\n",
    "         [\"Kolubarski\",     \"Valjevo\",     2474, 200560],\n",
    "         [\"Podunavski\",     \"Smederevo\",   1248, 226589],\n",
    "         [\"Braničevski\",    \"Požarevac\",   3865, 253492],\n",
    "         [\"Šumadijski\",     \"Kragujevac\",  2387, 312160],\n",
    "         [\"Pomoravski\",     \"Jagodina\",    2614, 312160],\n",
    "         [\"Borski\",         \"Bor\",         3507, 178718],\n",
    "         [\"Zaječarski\",     \"Zaječar\",     3623, 158131],\n",
    "         [\"Zlatiborski\",    \"Užice\",       6140, 335826],\n",
    "         [\"Moravički\",      \"Čačak\",       3013, 230748],\n",
    "         [\"Raški\",          \"Kraljevi\",    3918, 300234],\n",
    "         [\"Rasinski\",       \"Kruševac\",    2667, 296690],\n",
    "         [\"Nišavski\",       \"Niš\",         2729, 700000],\n",
    "         [\"Toplički\",       \"Prokuplje\",   2231, 111813],\n",
    "         [\"Pirotski\",       \"Pirot\",       2761, 116926],\n",
    "         [\"Jablanički\",     \"Leskovac\",    2769, 255011],\n",
    "         [\"Pčinjski\",       \"Vranje\",      3520, 234529],\n",
    "         [\"Beogradski\",     \"Beograd\",     3224, 1732000]]"
   ]
  },
  {
   "cell_type": "code",
   "execution_count": 3,
   "metadata": {},
   "outputs": [],
   "source": [
    "UžaSrbija = pd.DataFrame(Okruzi)\n",
    "UžaSrbija.columns=[\"Okrug\", \"Sedište\", \"Površina\", \"Broj stanovnika\"]"
   ]
  },
  {
   "cell_type": "code",
   "execution_count": 4,
   "metadata": {},
   "outputs": [
    {
     "data": {
      "text/html": [
       "<div>\n",
       "<style scoped>\n",
       "    .dataframe tbody tr th:only-of-type {\n",
       "        vertical-align: middle;\n",
       "    }\n",
       "\n",
       "    .dataframe tbody tr th {\n",
       "        vertical-align: top;\n",
       "    }\n",
       "\n",
       "    .dataframe thead th {\n",
       "        text-align: right;\n",
       "    }\n",
       "</style>\n",
       "<table border=\"1\" class=\"dataframe\">\n",
       "  <thead>\n",
       "    <tr style=\"text-align: right;\">\n",
       "      <th></th>\n",
       "      <th>Okrug</th>\n",
       "      <th>Sedište</th>\n",
       "      <th>Površina</th>\n",
       "      <th>Broj stanovnika</th>\n",
       "    </tr>\n",
       "  </thead>\n",
       "  <tbody>\n",
       "    <tr>\n",
       "      <td>0</td>\n",
       "      <td>Mačvanski</td>\n",
       "      <td>Šabac</td>\n",
       "      <td>3268</td>\n",
       "      <td>339644</td>\n",
       "    </tr>\n",
       "    <tr>\n",
       "      <td>1</td>\n",
       "      <td>Kolubarski</td>\n",
       "      <td>Valjevo</td>\n",
       "      <td>2474</td>\n",
       "      <td>200560</td>\n",
       "    </tr>\n",
       "    <tr>\n",
       "      <td>2</td>\n",
       "      <td>Podunavski</td>\n",
       "      <td>Smederevo</td>\n",
       "      <td>1248</td>\n",
       "      <td>226589</td>\n",
       "    </tr>\n",
       "    <tr>\n",
       "      <td>3</td>\n",
       "      <td>Braničevski</td>\n",
       "      <td>Požarevac</td>\n",
       "      <td>3865</td>\n",
       "      <td>253492</td>\n",
       "    </tr>\n",
       "    <tr>\n",
       "      <td>4</td>\n",
       "      <td>Šumadijski</td>\n",
       "      <td>Kragujevac</td>\n",
       "      <td>2387</td>\n",
       "      <td>312160</td>\n",
       "    </tr>\n",
       "    <tr>\n",
       "      <td>5</td>\n",
       "      <td>Pomoravski</td>\n",
       "      <td>Jagodina</td>\n",
       "      <td>2614</td>\n",
       "      <td>312160</td>\n",
       "    </tr>\n",
       "    <tr>\n",
       "      <td>6</td>\n",
       "      <td>Borski</td>\n",
       "      <td>Bor</td>\n",
       "      <td>3507</td>\n",
       "      <td>178718</td>\n",
       "    </tr>\n",
       "    <tr>\n",
       "      <td>7</td>\n",
       "      <td>Zaječarski</td>\n",
       "      <td>Zaječar</td>\n",
       "      <td>3623</td>\n",
       "      <td>158131</td>\n",
       "    </tr>\n",
       "    <tr>\n",
       "      <td>8</td>\n",
       "      <td>Zlatiborski</td>\n",
       "      <td>Užice</td>\n",
       "      <td>6140</td>\n",
       "      <td>335826</td>\n",
       "    </tr>\n",
       "    <tr>\n",
       "      <td>9</td>\n",
       "      <td>Moravički</td>\n",
       "      <td>Čačak</td>\n",
       "      <td>3013</td>\n",
       "      <td>230748</td>\n",
       "    </tr>\n",
       "    <tr>\n",
       "      <td>10</td>\n",
       "      <td>Raški</td>\n",
       "      <td>Kraljevi</td>\n",
       "      <td>3918</td>\n",
       "      <td>300234</td>\n",
       "    </tr>\n",
       "    <tr>\n",
       "      <td>11</td>\n",
       "      <td>Rasinski</td>\n",
       "      <td>Kruševac</td>\n",
       "      <td>2667</td>\n",
       "      <td>296690</td>\n",
       "    </tr>\n",
       "    <tr>\n",
       "      <td>12</td>\n",
       "      <td>Nišavski</td>\n",
       "      <td>Niš</td>\n",
       "      <td>2729</td>\n",
       "      <td>700000</td>\n",
       "    </tr>\n",
       "    <tr>\n",
       "      <td>13</td>\n",
       "      <td>Toplički</td>\n",
       "      <td>Prokuplje</td>\n",
       "      <td>2231</td>\n",
       "      <td>111813</td>\n",
       "    </tr>\n",
       "    <tr>\n",
       "      <td>14</td>\n",
       "      <td>Pirotski</td>\n",
       "      <td>Pirot</td>\n",
       "      <td>2761</td>\n",
       "      <td>116926</td>\n",
       "    </tr>\n",
       "    <tr>\n",
       "      <td>15</td>\n",
       "      <td>Jablanički</td>\n",
       "      <td>Leskovac</td>\n",
       "      <td>2769</td>\n",
       "      <td>255011</td>\n",
       "    </tr>\n",
       "    <tr>\n",
       "      <td>16</td>\n",
       "      <td>Pčinjski</td>\n",
       "      <td>Vranje</td>\n",
       "      <td>3520</td>\n",
       "      <td>234529</td>\n",
       "    </tr>\n",
       "    <tr>\n",
       "      <td>17</td>\n",
       "      <td>Beogradski</td>\n",
       "      <td>Beograd</td>\n",
       "      <td>3224</td>\n",
       "      <td>1732000</td>\n",
       "    </tr>\n",
       "  </tbody>\n",
       "</table>\n",
       "</div>"
      ],
      "text/plain": [
       "          Okrug     Sedište  Površina  Broj stanovnika\n",
       "0     Mačvanski       Šabac      3268           339644\n",
       "1    Kolubarski     Valjevo      2474           200560\n",
       "2    Podunavski   Smederevo      1248           226589\n",
       "3   Braničevski   Požarevac      3865           253492\n",
       "4    Šumadijski  Kragujevac      2387           312160\n",
       "5    Pomoravski    Jagodina      2614           312160\n",
       "6        Borski         Bor      3507           178718\n",
       "7    Zaječarski     Zaječar      3623           158131\n",
       "8   Zlatiborski       Užice      6140           335826\n",
       "9     Moravički       Čačak      3013           230748\n",
       "10        Raški    Kraljevi      3918           300234\n",
       "11     Rasinski    Kruševac      2667           296690\n",
       "12     Nišavski         Niš      2729           700000\n",
       "13     Toplički   Prokuplje      2231           111813\n",
       "14     Pirotski       Pirot      2761           116926\n",
       "15   Jablanički    Leskovac      2769           255011\n",
       "16     Pčinjski      Vranje      3520           234529\n",
       "17   Beogradski     Beograd      3224          1732000"
      ]
     },
     "execution_count": 4,
     "metadata": {},
     "output_type": "execute_result"
    }
   ],
   "source": [
    "UžaSrbija"
   ]
  },
  {
   "cell_type": "code",
   "execution_count": null,
   "metadata": {},
   "outputs": [],
   "source": []
  },
  {
   "cell_type": "code",
   "execution_count": null,
   "metadata": {},
   "outputs": [],
   "source": []
  },
  {
   "cell_type": "code",
   "execution_count": null,
   "metadata": {},
   "outputs": [],
   "source": []
  },
  {
   "cell_type": "code",
   "execution_count": null,
   "metadata": {},
   "outputs": [],
   "source": []
  },
  {
   "cell_type": "markdown",
   "metadata": {},
   "source": [
    "Drugi zadatak\n",
    "1. Sa našeg *GitHub* repozitorijuma na adresi https://github.com/vulkanznanje/Fajlovi uvezi u svesku tabelu iz *CSV* fajla *Gradovi - Broj stanovnika u užem i širem području*, sačuvaj je u promenljivu *Gradovi* i prikaži njen sadržaj.\n",
    "2. Iz tabele *Gradovi* izdvoj gradove koji imaju više od 60000 stanovnika u užem području grada. Rezultat sačuvaj u promenljivoj *Veliki gradovi*. \n",
    "3. Pomoću funkcija iz biblioteke **matplotlib** napravi stubičasti grafikon grafikon na kome će biti predstavljeni veliki gradovi sa njihovim brojem stanovnika u užem području. \n",
    "4. Grafikonu dodaj naslov *Broj stanovnika većih gradova*, oznaku *Grad* na x-osi i oznaku *Broj stanovnika u užem području* na y-osi."
   ]
  },
  {
   "cell_type": "code",
   "execution_count": null,
   "metadata": {},
   "outputs": [],
   "source": []
  },
  {
   "cell_type": "code",
   "execution_count": null,
   "metadata": {},
   "outputs": [],
   "source": []
  },
  {
   "cell_type": "code",
   "execution_count": null,
   "metadata": {},
   "outputs": [],
   "source": []
  },
  {
   "cell_type": "markdown",
   "metadata": {},
   "source": [
    "Treći zadatak\n",
    "\n",
    "1. Za datu ugnježđenu listu *FizičkoVaspitanje* sa serijama podataka napravljena je tabela koja je sačuvana kao *Rezultati*. Pomoću funkcija iz biblioteke **matplotlib** napravi stubičasti grafikon grafikon na kome će biti predstavljeni rezultati bacanja medicinke.\n",
    "2. Grafikonu dodaj naslov *Rezultati bacanja medicinke*, oznaku *Imena učenika* na x-osi i oznaku *Dužina bacanja medicinke [m]* na y-osi.\n"
   ]
  },
  {
   "cell_type": "code",
   "execution_count": 5,
   "metadata": {},
   "outputs": [],
   "source": [
    "import pandas as pd"
   ]
  },
  {
   "cell_type": "code",
   "execution_count": 6,
   "metadata": {},
   "outputs": [],
   "source": [
    "FizičkoVaspitanje = [[\"Una\",   \"Zorić\",       \"Ž\",  161, 45, 2.75, 18, 15, 5.66, 13.95],\n",
    "                    [\"Marta\",  \"Stojanović\",  \"Ž\",  171, 64, 5.25, 25, 30, 5.32, 12.90],\n",
    "                    [\"Ognjen\", \"Novaković\",   \"M\",  159, 48, 6.70, 23, 28, 5.12, 13.24],\n",
    "                    [\"Petra\",  \"Kaličanin\",   \"Ž\",  165, 53, 2.50, 20, 10, 6.37, 14.01],\n",
    "                    [\"Novak\",  \"Đorđević\",    \"M\",  170, 62, 7.00, 25, 55, 4.91, 11.38],\n",
    "                    [\"Đurđe\",  \"Martać\",      \"M\",  175, 67, 6.10, 26, 36, 4.46, 12.15],\n",
    "                    [\"Kalina\", \"Ognjenović\",  \"Ž\",  178, 65, 5.00, 26, 36, 4.46, 12.10],\n",
    "                    [\"Vanja\",  \"Čolović\",     \"M\",  181, 72, 7.10, 28, 45, 4.34, 10.85]]"
   ]
  },
  {
   "cell_type": "code",
   "execution_count": 13,
   "metadata": {},
   "outputs": [],
   "source": [
    "Rezultati = pd.DataFrame(FizičkoVaspitanje)\n",
    "Rezultati.columns=[\"Ime\", \"Prezime\", \"Pol\", \"Visina[cm]\", \"Težina[kg]\", \"Bacanje medicinke[m]\", \"Trbušnjaci\", \"Izdržaj u zgibu[s]\", \"Trka30m[s]\", \"Čunasto trčanje[s]\"]"
   ]
  },
  {
   "cell_type": "code",
   "execution_count": 14,
   "metadata": {},
   "outputs": [
    {
     "data": {
      "text/html": [
       "<div>\n",
       "<style scoped>\n",
       "    .dataframe tbody tr th:only-of-type {\n",
       "        vertical-align: middle;\n",
       "    }\n",
       "\n",
       "    .dataframe tbody tr th {\n",
       "        vertical-align: top;\n",
       "    }\n",
       "\n",
       "    .dataframe thead th {\n",
       "        text-align: right;\n",
       "    }\n",
       "</style>\n",
       "<table border=\"1\" class=\"dataframe\">\n",
       "  <thead>\n",
       "    <tr style=\"text-align: right;\">\n",
       "      <th></th>\n",
       "      <th>Ime</th>\n",
       "      <th>Prezime</th>\n",
       "      <th>Pol</th>\n",
       "      <th>Visina[cm]</th>\n",
       "      <th>Težina[kg]</th>\n",
       "      <th>Bacanje medicinke[m]</th>\n",
       "      <th>Trbušnjaci</th>\n",
       "      <th>Izdržaj u zgibu[s]</th>\n",
       "      <th>Trka30m[s]</th>\n",
       "      <th>Čunasto trčanje[s]</th>\n",
       "    </tr>\n",
       "  </thead>\n",
       "  <tbody>\n",
       "    <tr>\n",
       "      <td>0</td>\n",
       "      <td>Una</td>\n",
       "      <td>Zorić</td>\n",
       "      <td>Ž</td>\n",
       "      <td>161</td>\n",
       "      <td>45</td>\n",
       "      <td>2.75</td>\n",
       "      <td>18</td>\n",
       "      <td>15</td>\n",
       "      <td>5.66</td>\n",
       "      <td>13.95</td>\n",
       "    </tr>\n",
       "    <tr>\n",
       "      <td>1</td>\n",
       "      <td>Marta</td>\n",
       "      <td>Stojanović</td>\n",
       "      <td>Ž</td>\n",
       "      <td>171</td>\n",
       "      <td>64</td>\n",
       "      <td>5.25</td>\n",
       "      <td>25</td>\n",
       "      <td>30</td>\n",
       "      <td>5.32</td>\n",
       "      <td>12.90</td>\n",
       "    </tr>\n",
       "    <tr>\n",
       "      <td>2</td>\n",
       "      <td>Ognjen</td>\n",
       "      <td>Novaković</td>\n",
       "      <td>M</td>\n",
       "      <td>159</td>\n",
       "      <td>48</td>\n",
       "      <td>6.70</td>\n",
       "      <td>23</td>\n",
       "      <td>28</td>\n",
       "      <td>5.12</td>\n",
       "      <td>13.24</td>\n",
       "    </tr>\n",
       "    <tr>\n",
       "      <td>3</td>\n",
       "      <td>Petra</td>\n",
       "      <td>Kaličanin</td>\n",
       "      <td>Ž</td>\n",
       "      <td>165</td>\n",
       "      <td>53</td>\n",
       "      <td>2.50</td>\n",
       "      <td>20</td>\n",
       "      <td>10</td>\n",
       "      <td>6.37</td>\n",
       "      <td>14.01</td>\n",
       "    </tr>\n",
       "    <tr>\n",
       "      <td>4</td>\n",
       "      <td>Novak</td>\n",
       "      <td>Đorđević</td>\n",
       "      <td>M</td>\n",
       "      <td>170</td>\n",
       "      <td>62</td>\n",
       "      <td>7.00</td>\n",
       "      <td>25</td>\n",
       "      <td>55</td>\n",
       "      <td>4.91</td>\n",
       "      <td>11.38</td>\n",
       "    </tr>\n",
       "    <tr>\n",
       "      <td>5</td>\n",
       "      <td>Đurđe</td>\n",
       "      <td>Martać</td>\n",
       "      <td>M</td>\n",
       "      <td>175</td>\n",
       "      <td>67</td>\n",
       "      <td>6.10</td>\n",
       "      <td>26</td>\n",
       "      <td>36</td>\n",
       "      <td>4.46</td>\n",
       "      <td>12.15</td>\n",
       "    </tr>\n",
       "    <tr>\n",
       "      <td>6</td>\n",
       "      <td>Kalina</td>\n",
       "      <td>Ognjenović</td>\n",
       "      <td>Ž</td>\n",
       "      <td>178</td>\n",
       "      <td>65</td>\n",
       "      <td>5.00</td>\n",
       "      <td>26</td>\n",
       "      <td>36</td>\n",
       "      <td>4.46</td>\n",
       "      <td>12.10</td>\n",
       "    </tr>\n",
       "    <tr>\n",
       "      <td>7</td>\n",
       "      <td>Vanja</td>\n",
       "      <td>Čolović</td>\n",
       "      <td>M</td>\n",
       "      <td>181</td>\n",
       "      <td>72</td>\n",
       "      <td>7.10</td>\n",
       "      <td>28</td>\n",
       "      <td>45</td>\n",
       "      <td>4.34</td>\n",
       "      <td>10.85</td>\n",
       "    </tr>\n",
       "  </tbody>\n",
       "</table>\n",
       "</div>"
      ],
      "text/plain": [
       "      Ime     Prezime Pol  Visina[cm]  Težina[kg]  Bacanje medicinke[m]  \\\n",
       "0     Una       Zorić   Ž         161          45                  2.75   \n",
       "1   Marta  Stojanović   Ž         171          64                  5.25   \n",
       "2  Ognjen   Novaković   M         159          48                  6.70   \n",
       "3   Petra   Kaličanin   Ž         165          53                  2.50   \n",
       "4   Novak    Đorđević   M         170          62                  7.00   \n",
       "5   Đurđe      Martać   M         175          67                  6.10   \n",
       "6  Kalina  Ognjenović   Ž         178          65                  5.00   \n",
       "7   Vanja     Čolović   M         181          72                  7.10   \n",
       "\n",
       "   Trbušnjaci  Izdržaj u zgibu[s]  Trka30m[s]  Čunasto trčanje[s]  \n",
       "0          18                  15        5.66               13.95  \n",
       "1          25                  30        5.32               12.90  \n",
       "2          23                  28        5.12               13.24  \n",
       "3          20                  10        6.37               14.01  \n",
       "4          25                  55        4.91               11.38  \n",
       "5          26                  36        4.46               12.15  \n",
       "6          26                  36        4.46               12.10  \n",
       "7          28                  45        4.34               10.85  "
      ]
     },
     "execution_count": 14,
     "metadata": {},
     "output_type": "execute_result"
    }
   ],
   "source": [
    "Rezultati"
   ]
  },
  {
   "cell_type": "code",
   "execution_count": null,
   "metadata": {},
   "outputs": [],
   "source": []
  },
  {
   "cell_type": "code",
   "execution_count": null,
   "metadata": {},
   "outputs": [],
   "source": []
  },
  {
   "cell_type": "code",
   "execution_count": null,
   "metadata": {},
   "outputs": [],
   "source": []
  },
  {
   "cell_type": "code",
   "execution_count": null,
   "metadata": {},
   "outputs": [],
   "source": []
  },
  {
   "cell_type": "markdown",
   "metadata": {},
   "source": [
    "1. Sa našeg *GitHub* repozitorijuma na adresi https://github.com/vulkanznanje/Fajlovi uvezi u svesku tabelu iz *CSV* fajla *Reke u Srbiji*, sačuvaj je u promenljivu *RekeSrbije* i prikaži njen sadržaj.\n"
   ]
  }
 ],
 "metadata": {
  "kernelspec": {
   "display_name": "Python 3",
   "language": "python",
   "name": "python3"
  },
  "language_info": {
   "codemirror_mode": {
    "name": "ipython",
    "version": 3
   },
   "file_extension": ".py",
   "mimetype": "text/x-python",
   "name": "python",
   "nbconvert_exporter": "python",
   "pygments_lexer": "ipython3",
   "version": "3.7.4"
  }
 },
 "nbformat": 4,
 "nbformat_minor": 2
}
