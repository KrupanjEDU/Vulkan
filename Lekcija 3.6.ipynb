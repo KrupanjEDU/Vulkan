{
 "cells": [
  {
   "cell_type": "markdown",
   "metadata": {},
   "source": [
    "### Lekcija 3.6"
   ]
  },
  {
   "cell_type": "markdown",
   "metadata": {},
   "source": [
    "Prvi zadatak\n",
    "1. Sa našeg *GitHub* repozitorijuma na adresi https://github.com/vulkanznanje/Fajlovi uvezi u svesku tabelu iz *CSV* fajla *Gradovi - Broj stanovnika u užem i širem području*, sačuvaj je u promenljivu *BrojStanovnika* i prikaži njen sadržaj.\n",
    "2. Umesto indeksa, kolonama dodeli nazive Uže područje i Šire područje pa ponovo prikaži tabelu.\n",
    "5. Tabelu *BrojStanovnika* sortiraj po Užem području u opadajućem redosledu i rezultat obrade sačuvaj u promenljivu pod nazivom *SortUžePodručje*. Prikaži obrađenu tabelu."
   ]
  },
  {
   "cell_type": "code",
   "execution_count": null,
   "metadata": {},
   "outputs": [],
   "source": []
  },
  {
   "cell_type": "code",
   "execution_count": null,
   "metadata": {},
   "outputs": [],
   "source": []
  },
  {
   "cell_type": "code",
   "execution_count": null,
   "metadata": {},
   "outputs": [],
   "source": []
  },
  {
   "cell_type": "code",
   "execution_count": null,
   "metadata": {},
   "outputs": [],
   "source": []
  },
  {
   "cell_type": "code",
   "execution_count": null,
   "metadata": {},
   "outputs": [],
   "source": []
  },
  {
   "cell_type": "markdown",
   "metadata": {},
   "source": [
    "Drugi zadatak\n",
    "1. Sa našeg *GitHub* repozitorijuma na adresi https://github.com/vulkanznanje/Fajlovi uvezi u svesku tabelu iz *CSV* fajla *Reke u Srbiji*, sačuvaj je u promenljivu *RekeSrbije* i prikaži njen sadržaj.\n",
    "2. Tabelu *RekeSrbije* sortiraj po koloni Dužina[km] u opadajućem redosledu. Rezultat sortiranja sačuvaj u promenljivu pod nazivom SortRekeD. Prikaži sortiranu tabelu.\n",
    "3. Tabelu *RekeSrbije* sortiraj po koloni Dužina[km] u rastućem redosledu, pa po koloni Površina [km^2] u rastućem redosledu. Rezultat sortiranja sačuvaj u promenljivu pod nazivom SortRekeDP. Prikaži sortiranu tabelu."
   ]
  },
  {
   "cell_type": "code",
   "execution_count": null,
   "metadata": {},
   "outputs": [],
   "source": []
  },
  {
   "cell_type": "code",
   "execution_count": null,
   "metadata": {},
   "outputs": [],
   "source": []
  },
  {
   "cell_type": "code",
   "execution_count": null,
   "metadata": {},
   "outputs": [],
   "source": []
  },
  {
   "cell_type": "code",
   "execution_count": null,
   "metadata": {},
   "outputs": [],
   "source": []
  },
  {
   "cell_type": "code",
   "execution_count": null,
   "metadata": {},
   "outputs": [],
   "source": []
  },
  {
   "cell_type": "code",
   "execution_count": null,
   "metadata": {},
   "outputs": [],
   "source": []
  },
  {
   "cell_type": "markdown",
   "metadata": {},
   "source": [
    "Treći zadatak\n",
    "1. Sa našeg *GitHub* repozitorijuma na adresi https://github.com/vulkanznanje/Fajlovi uvezi u svesku tabelu iz *CSV* fajla *Gradovi - Broj stanovnika u užem i širem području*, sačuvaj je u promenljivu *BrojStanovnika* i prikaži njen sadržaj.\n",
    "2. Iz tabele *BrojStanovnika* izdvoj gradove koji imaju više od 50000 stanovnika u užem području. Rezultat sačuvaj u promenljivu *VelikiGradovi* a potom ih prikaži.\n",
    "3. Pokušaj da pomoću dodatne zagrade kojom ćeš obuhvatiti zadati kriterijum i postavljanjem operatora negacije (~) ispred nje, izdvojiš gradove koji ne ispunjavaju navedeni uslov. Rezultat sačuvaj u promenljivu *MaliGradovi* i prikaži njen sadržaj.\n",
    "3. Iz tabele *BrojStanovnika* izdvoj gradove čiji je broj stanovnika veći od 100000 u užem i širem području."
   ]
  },
  {
   "cell_type": "code",
   "execution_count": null,
   "metadata": {},
   "outputs": [],
   "source": []
  },
  {
   "cell_type": "code",
   "execution_count": null,
   "metadata": {},
   "outputs": [],
   "source": []
  },
  {
   "cell_type": "code",
   "execution_count": null,
   "metadata": {},
   "outputs": [],
   "source": []
  },
  {
   "cell_type": "code",
   "execution_count": null,
   "metadata": {},
   "outputs": [],
   "source": []
  },
  {
   "cell_type": "code",
   "execution_count": null,
   "metadata": {},
   "outputs": [],
   "source": []
  },
  {
   "cell_type": "code",
   "execution_count": null,
   "metadata": {},
   "outputs": [],
   "source": []
  },
  {
   "cell_type": "code",
   "execution_count": null,
   "metadata": {},
   "outputs": [],
   "source": []
  },
  {
   "cell_type": "code",
   "execution_count": null,
   "metadata": {},
   "outputs": [],
   "source": []
  }
 ],
 "metadata": {
  "kernelspec": {
   "display_name": "Python 3",
   "language": "python",
   "name": "python3"
  },
  "language_info": {
   "codemirror_mode": {
    "name": "ipython",
    "version": 3
   },
   "file_extension": ".py",
   "mimetype": "text/x-python",
   "name": "python",
   "nbconvert_exporter": "python",
   "pygments_lexer": "ipython3",
   "version": "3.7.4"
  }
 },
 "nbformat": 4,
 "nbformat_minor": 2
}
