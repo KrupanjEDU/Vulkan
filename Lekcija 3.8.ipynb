{
 "cells": [
  {
   "cell_type": "markdown",
   "metadata": {},
   "source": [
    "### Lekcija 3.8"
   ]
  },
  {
   "cell_type": "markdown",
   "metadata": {},
   "source": [
    "Prvi zadatak\n",
    "1. U tabeli *UspehUčenika* označi sve učenike i kolone u kojima se nalaze predmeti koji dolaze na kombinovanom završnom ispitu. Izdvoj ih u posebnu promenljivu pod nazivom *KombinovaniIspit* a zatim prikaži njien sadržaj.\n",
    "2. U tabeli *UspehUčenika* označi parne i neparne redove i sve kolone. Izdvoj ih u posebne promenljive pod nazivom *ParniUčenici* i *NeparniUčenici*, a zatim prikaži njihov sadržaj.\n",
    "3. U tabeli *UspehUčenika* dodaj 4 nova reda (Najmanja ocena, Najveća ocena, Prosek i Broj petica) i u njima izračunaj osnovne statističke pokazatelje po svakom predmetu.\n",
    "4. U Tabeli *UspehUčenika* obriši redove Najmanja ocena, Najveća ocena, Prosek i Broj petica.\n",
    "4. Tabelu *UspehUčenika* indeksiraj po imenima učenika, sačuvaj je u promenljivu *IndeksUspehUčenika* i prikaži njen sadržaj.\n",
    "5. Korišćenjem funkcje loc prikaži ocene svih Milica u odeljenju za predmete koji dolaze na kombinovanom ispitu.\n",
    "6. U početnu tabelu *UspehUčenika* dodaj 4 nova reda (Najmanja ocena, Najveća ocena, Prosek i Broj petica) i u njima izračunaj osnovne statističke pokazatelje za serije u opsegu Srpski:Vladanje. Koristi isključivo funkiciju loc.\n",
    "7. U tabeli *UspehUčenika* dodaj kolonu *Prosek* i u njoj izračunaj prosek svakog učenika."
   ]
  },
  {
   "cell_type": "code",
   "execution_count": 1,
   "metadata": {},
   "outputs": [],
   "source": [
    "import pandas as pd"
   ]
  },
  {
   "cell_type": "code",
   "execution_count": 2,
   "metadata": {},
   "outputs": [],
   "source": [
    "Ocene = [[\"Anja\",     \"Veljković\",     4,3,5,5,5,4,3,3,5,3,5,5,3,5,5],\n",
    "         [\"Luka\",     \"Duković\",       2,4,3,5,2,2,3,2,3,2,4,4,2,5,5],\n",
    "         [\"Nikola\",   \"Zekavica\",      2,2,3,4,2,2,2,2,2,2,2,4,2,3,5],\n",
    "         [\"Isidora\",  \"Zekavica\",      5,5,5,5,5,5,3,4,5,4,5,5,4,5,5],\n",
    "         [\"Mihailo\",  \"Ivančević\",     4,3,3,5,3,2,2,2,4,3,4,5,3,5,5],\n",
    "         [\"Marta\",    \"Ilić\",          5,5,5,5,5,5,5,5,5,5,5,5,5,5,5],\n",
    "         [\"Teodora\",  \"Jagličić\",      4,4,5,5,4,4,4,4,5,3,5,5,4,5,5],\n",
    "         [\"Ana\",      \"Kanjevac\",      5,5,5,5,5,5,5,5,5,5,5,5,5,5,5],\n",
    "         [\"Nikola\",   \"Kezović\",       5,5,5,5,5,5,5,5,5,5,5,5,5,5,5],\n",
    "         [\"Andrija\",  \"Knežević\",      5,4,5,5,5,5,4,4,5,4,5,5,5,5,5],\n",
    "         [\"Jana\",     \"Kovačević\",     5,5,5,5,5,5,5,5,5,5,5,5,5,5,5],\n",
    "         [\"Marko\",    \"Laković\",       4,4,3,5,4,4,4,3,4,2,5,5,4,5,5],\n",
    "         [\"Đorđe\",    \"Milinković\",    5,5,5,5,5,5,5,5,5,5,5,5,5,5,5],\n",
    "         [\"Silvija\",  \"Maslarević\",    4,5,5,5,5,5,3,3,5,4,5,5,4,5,5],\n",
    "         [\"Magdalena\",\"Milić\",         3,2,5,5,3,3,4,2,4,2,4,5,2,5,5],\n",
    "         [\"Pavle\",    \"Milosavljević\", 4,5,5,5,5,5,4,4,5,4,5,5,5,5,5],\n",
    "         [\"Olivera\",  \"Obradović\",     5,5,5,5,5,5,4,4,5,4,5,5,5,5,5],\n",
    "         [\"Lazar\",    \"Parezanović\",   5,5,5,5,5,5,4,4,5,4,5,5,5,5,5],\n",
    "         [\"Veljko\",   \"Petrović\",      5,5,5,5,5,5,5,5,5,5,5,5,5,5,5],\n",
    "         [\"Milica\",   \"Polužić\",       5,5,5,5,5,5,5,5,5,5,5,5,5,5,5],\n",
    "         [\"Teodora\",  \"Popović\",       5,5,5,5,5,5,5,5,5,5,5,5,5,5,5],\n",
    "         [\"Milica\",   \"Radičević\",     5,3,5,5,5,5,5,3,5,4,5,5,4,5,5],\n",
    "         [\"Vukašin\",  \"Radonjić\",      5,5,5,5,5,5,5,5,5,5,5,5,5,5,5],\n",
    "         [\"Bogdan\",   \"Rečević\",       4,3,4,5,3,2,3,2,4,2,5,5,3,5,5],\n",
    "         [\"Milica\",   \"Soldatović\",    4,2,5,5,5,5,3,3,5,4,5,5,3,5,5],\n",
    "         [\"Nikola\",   \"Ćosović\",       3,2,5,5,3,3,2,3,4,2,5,5,2,5,5],\n",
    "         [\"Damir\",    \"Špajaković\",    3,3,4,5,2,3,3,2,4,3,5,5,3,5,5],\n",
    "         [\"Vuk\",      \"Bogdanović\",    3,3,4,5,3,2,3,2,4,2,5,5,3,5,5]]"
   ]
  },
  {
   "cell_type": "code",
   "execution_count": 3,
   "metadata": {},
   "outputs": [],
   "source": [
    "UspehUčenika = pd.DataFrame(Ocene)"
   ]
  },
  {
   "cell_type": "code",
   "execution_count": 9,
   "metadata": {},
   "outputs": [],
   "source": [
    "UspehUčenika.columns = [\"Ime\", \"Prezime\", \"Srpski\", \"Engleski\", \"Istorija\", \"Geografija\", \"Biologija\", \"Matematika\",\n",
    "                  \"Fizika\", \"Hemija\", \"IiR\", \"TiT\", \"Likovno\", \"Muzičko\", \"Fizičko\", \"Nemački\", \"Vladanje\"]"
   ]
  },
  {
   "cell_type": "code",
   "execution_count": null,
   "metadata": {},
   "outputs": [],
   "source": []
  },
  {
   "cell_type": "code",
   "execution_count": null,
   "metadata": {},
   "outputs": [],
   "source": []
  },
  {
   "cell_type": "code",
   "execution_count": null,
   "metadata": {},
   "outputs": [],
   "source": []
  }
 ],
 "metadata": {
  "kernelspec": {
   "display_name": "Python 3",
   "language": "python",
   "name": "python3"
  },
  "language_info": {
   "codemirror_mode": {
    "name": "ipython",
    "version": 3
   },
   "file_extension": ".py",
   "mimetype": "text/x-python",
   "name": "python",
   "nbconvert_exporter": "python",
   "pygments_lexer": "ipython3",
   "version": "3.7.4"
  }
 },
 "nbformat": 4,
 "nbformat_minor": 2
}
