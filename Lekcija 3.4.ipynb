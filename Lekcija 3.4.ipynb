{
 "cells": [
  {
   "cell_type": "markdown",
   "metadata": {},
   "source": [
    "# Lekcija 3.4"
   ]
  },
  {
   "cell_type": "markdown",
   "metadata": {},
   "source": [
    "Prvi zadatak\n",
    "\n",
    "Napravi listu *Temperature* sa sledećim podacima [3, 3.5, 7.5, 12.5, 17, 20, 22.5, 22.5, 19, 14, 9, 4]. Izračunaj prosečnu vrednost i sačuvaj je u promenlјivoj *Prosek*.\n",
    "* Ispiši vrednost promenlјive *Prosek*  zaokruženu na dve decimale.\n",
    "* Sortiraj listu prvo u opadajućem, a zatim i u rastućem redosledu. Oba rezultata obrade sačuvaj u promenlјive.\n",
    "* Pomoću dve naredbe *print* prikaži najmanju i najveću temperaturu."
   ]
  },
  {
   "cell_type": "code",
   "execution_count": null,
   "metadata": {},
   "outputs": [],
   "source": []
  },
  {
   "cell_type": "code",
   "execution_count": null,
   "metadata": {},
   "outputs": [],
   "source": []
  },
  {
   "cell_type": "code",
   "execution_count": null,
   "metadata": {},
   "outputs": [],
   "source": []
  },
  {
   "cell_type": "markdown",
   "metadata": {},
   "source": [
    "Drugi zadatak\n",
    "\n",
    "Na internetu pronađi podatke o visini najviših vrhova planina Fruška Gora, Zlatibor, Golija, Jastrebac, Kopaonik, Homoljske planine, Radan, Dukat, Rtanj, Tara, Sokolske planine, Maljen, Suvobor, Rudnik, Gledićke planine, Prokletije, Paštrik i Šar planina. \n",
    "* Sačuvaj ih u listu pod nazivom *VrhoviSrbije*. \n",
    "* Od liste napravi seriju podataka pod nazivom *Vrhovi*. \n",
    "* Pomoću odgovarajućih funkcija odredi i prikaži prosečnu visinu datih vrhova, najniži i najviši vrh. \n",
    "* U novu promenljivu izdvoj samo vrhove niže od 1000 m.\n"
   ]
  },
  {
   "cell_type": "code",
   "execution_count": null,
   "metadata": {},
   "outputs": [],
   "source": []
  },
  {
   "cell_type": "code",
   "execution_count": null,
   "metadata": {},
   "outputs": [],
   "source": []
  },
  {
   "cell_type": "code",
   "execution_count": null,
   "metadata": {},
   "outputs": [],
   "source": []
  },
  {
   "cell_type": "markdown",
   "metadata": {},
   "source": [
    "Treći zadatak\n",
    "\n",
    "Na internetu pronađi podatke o dužini reka Dunav, Sava, Drina, Velika Morava, Zapadna Morava, Južna Morava, Tisa, Timok, Begej, Ibar, Lepenac, Lepenica, Đetinja, Sitnica, Golijska Moravica, Uvac i Lim. \n",
    "* Od podataka o dužinama reka napravi listu pod nazivom *RekeSrbije*. \n",
    "* Od liste napravi seriju podataka *RekeKM*. Iz serije *RekeKM* izdvoj samo one duže od 300 km.\n",
    "* Seriju *RekeKM* preslikaj u seriju *RekeM* u kojoj će podaci biti izraženi u metrima. Seriju *RekeM* sortiraj u opadajućem redosledu.\n"
   ]
  },
  {
   "cell_type": "code",
   "execution_count": null,
   "metadata": {},
   "outputs": [],
   "source": []
  },
  {
   "cell_type": "code",
   "execution_count": null,
   "metadata": {},
   "outputs": [],
   "source": []
  },
  {
   "cell_type": "code",
   "execution_count": null,
   "metadata": {},
   "outputs": [],
   "source": []
  },
  {
   "cell_type": "markdown",
   "metadata": {},
   "source": [
    "Četvrti zadatak\n",
    "\n",
    "Napravi listu *Novac* sa sledećim podacima [750, 700, 1040, 950, 830, 1180, 790, 1000].\n",
    "* Od liste napravi seriju podataka *Džeparac*.\n",
    "* Seriju *Džeparac* preslikaj u četiri nove serije pod nazivima *DžeparacEvri*, *DžeparacDolari*, *DžeparacFranci* и *DžeparacFunte*. Dinarski iznosi džeparca treba da u novim serijama budu pretvoreni u odgovarajuće valute."
   ]
  },
  {
   "cell_type": "code",
   "execution_count": null,
   "metadata": {},
   "outputs": [],
   "source": []
  },
  {
   "cell_type": "code",
   "execution_count": null,
   "metadata": {},
   "outputs": [],
   "source": []
  },
  {
   "cell_type": "code",
   "execution_count": null,
   "metadata": {},
   "outputs": [],
   "source": []
  },
  {
   "cell_type": "markdown",
   "metadata": {},
   "source": [
    "Peti zadatak\n",
    "\n",
    "Iz rečnika *UgroženeVrste* izdvoj brojeve jedinki u posebnu listu i nazovi je *Jedinke*.\n",
    "\n",
    "UgroženeVrste = {\"Mrki medved\":60,\"Beloglavi sup\":358,\"Vuk\":900,\"Orao krstaš\":2,\"Stepski soko\":60}\n",
    "\n",
    "Od liste *Jedinke* napravi seriju pod nazivom *PreostaleJedinke*. Izračunaj gustinu naseljenosti ovih jedinki na teritoriji Republike Srbije (podatak o porvršini Srbije pronađi na internetu).\n",
    "* Pomoću naredbe *print* i brojačke petlje prikaži podatak o gustini naseljenosti svake jedinke.\n",
    "* Podatke o gustini naseljenosti prikaži u novoj seriji koja treba da bude preslikana od serije *PreostaleJedinke*.\n",
    "\n"
   ]
  },
  {
   "cell_type": "code",
   "execution_count": null,
   "metadata": {},
   "outputs": [],
   "source": []
  },
  {
   "cell_type": "code",
   "execution_count": null,
   "metadata": {},
   "outputs": [],
   "source": []
  },
  {
   "cell_type": "code",
   "execution_count": null,
   "metadata": {},
   "outputs": [],
   "source": []
  }
 ],
 "metadata": {
  "kernelspec": {
   "display_name": "Python 3",
   "language": "python",
   "name": "python3"
  },
  "language_info": {
   "codemirror_mode": {
    "name": "ipython",
    "version": 3
   },
   "file_extension": ".py",
   "mimetype": "text/x-python",
   "name": "python",
   "nbconvert_exporter": "python",
   "pygments_lexer": "ipython3",
   "version": "3.7.4"
  }
 },
 "nbformat": 4,
 "nbformat_minor": 2
}
