{
 "cells": [
  {
   "cell_type": "markdown",
   "metadata": {},
   "source": [
    "# Lekcija 3.4"
   ]
  },
  {
   "cell_type": "markdown",
   "metadata": {},
   "source": [
    "Prvi zadatak\n",
    "1. Napravi listu *TemperatureČačak* sa sledećim podacima [3, 3.5, 7.5, 12.5, 17, 20, 22.5, 22.5, 19, 14, 9, 4]. Izračunaj prosečnu vrednost i sačuvaj je u promenlјivoj *Prosek*. Ispiši vrednost promenlјive *Prosek*  zaokruženu na dve decimale. Podsećamo te da je prvi parametar funkcije round() vrednost koju treba zaokružiti, a drugi želјeni broj decimala. Kada se drugi parametar izostavi, realan broj biva zaokružen na najbliži ceo broj."
   ]
  },
  {
   "cell_type": "code",
   "execution_count": null,
   "metadata": {},
   "outputs": [],
   "source": []
  },
  {
   "cell_type": "code",
   "execution_count": null,
   "metadata": {},
   "outputs": [],
   "source": []
  },
  {
   "cell_type": "code",
   "execution_count": null,
   "metadata": {},
   "outputs": [],
   "source": []
  },
  {
   "cell_type": "markdown",
   "metadata": {},
   "source": [
    "2. Na osnovu liste *TemperatureČačak* iz prvog zadatka listu sortiraj prvo u opadajućem, a zatim i u rastućem redosledu. Oba rezultata obrade sačuvaj u promenlјive. Pomoću osnovnih statističkih funkcija odredi i prikaži najmanju i najveću temperaturu."
   ]
  },
  {
   "cell_type": "code",
   "execution_count": null,
   "metadata": {},
   "outputs": [],
   "source": []
  },
  {
   "cell_type": "code",
   "execution_count": null,
   "metadata": {},
   "outputs": [],
   "source": []
  },
  {
   "cell_type": "code",
   "execution_count": null,
   "metadata": {},
   "outputs": [],
   "source": []
  },
  {
   "cell_type": "markdown",
   "metadata": {},
   "source": [
    "Drugi zadatak\n",
    "1. Na internetu pronađi podatke o visini najvećih vrhova planina Fruška Gora, Zlatibor, Golija, Jastrebac, Kopaonik, Homoljske planine, Radan, Dukat, Rtanj, Tara, Sokolske planine, Maljen, Suvobor, Rudnik, Gledićke planine, Prokletije, Paštrik, Šar planina i na osnovu njih kreiraj listu pod nazivom *PlanineSrbije*. Od nje napravi seriju podataka pod nazivom *Vrhovi*. Pomoću osnovnih statističkih funkcija odredi i prikaži prosečnu visinu najvećih vrhova planina Srbije i najveći vrh. Prosečnu visinu zaokruži na 2 decimale."
   ]
  },
  {
   "cell_type": "code",
   "execution_count": null,
   "metadata": {},
   "outputs": [],
   "source": []
  },
  {
   "cell_type": "code",
   "execution_count": null,
   "metadata": {},
   "outputs": [],
   "source": []
  },
  {
   "cell_type": "code",
   "execution_count": null,
   "metadata": {},
   "outputs": [],
   "source": []
  },
  {
   "cell_type": "markdown",
   "metadata": {},
   "source": [
    "2. Na osnovu serije *Vrhovi* iz prethodnog zadatka sortiraj podatke prvo u opadajućem, a zatim i u rastućem redosledu. Oba rezultata obrade sačuvaj u promenlјive. "
   ]
  },
  {
   "cell_type": "code",
   "execution_count": null,
   "metadata": {},
   "outputs": [],
   "source": []
  },
  {
   "cell_type": "code",
   "execution_count": null,
   "metadata": {},
   "outputs": [],
   "source": []
  },
  {
   "cell_type": "code",
   "execution_count": null,
   "metadata": {},
   "outputs": [],
   "source": []
  },
  {
   "cell_type": "markdown",
   "metadata": {},
   "source": [
    "Treći zadatak\n",
    "\n",
    "1. Napravi listu pod nazivom *Težine* u koju ćeš smestiti podatke o težini petoro tvojih najbolјih drugova u kilogramima. Od liste napravi seriju podataka *TežineKg*. Zatim je preslikaj u novu seriju tako da podaci u njoj budu prikazani u gramima. Novu seriju sortiraj u rastućem redosledu."
   ]
  },
  {
   "cell_type": "code",
   "execution_count": null,
   "metadata": {},
   "outputs": [],
   "source": []
  },
  {
   "cell_type": "code",
   "execution_count": null,
   "metadata": {},
   "outputs": [],
   "source": []
  },
  {
   "cell_type": "code",
   "execution_count": null,
   "metadata": {},
   "outputs": [],
   "source": []
  },
  {
   "cell_type": "markdown",
   "metadata": {},
   "source": [
    "Četvrti zadatak\n",
    "\n",
    "1. Na internetu pronađi podatke o dužini u km za reke Dunav, Sava, Drina, Velika Morava, Zapadna Morava, Južna Morava, Tisa, Timok, Begej, Ibar, Lepenac, Lepenica, Đetinja, Sitnica, Golijska Moravica, Uvac, Lim i na osnovu njih kreiraj listu pod nazivom *RekeSrbije*. Od liste napravi seriju podataka *RekeSrbijeKm*. Zatim je preslikaj u novu seriju tako da podaci u njoj budu prikazani u metrima. Novu seriju sortiraj u opadajućem redosledu."
   ]
  },
  {
   "cell_type": "code",
   "execution_count": null,
   "metadata": {},
   "outputs": [],
   "source": []
  },
  {
   "cell_type": "code",
   "execution_count": null,
   "metadata": {},
   "outputs": [],
   "source": []
  },
  {
   "cell_type": "code",
   "execution_count": null,
   "metadata": {},
   "outputs": [],
   "source": []
  }
 ],
 "metadata": {
  "kernelspec": {
   "display_name": "Python 3",
   "language": "python",
   "name": "python3"
  },
  "language_info": {
   "codemirror_mode": {
    "name": "ipython",
    "version": 3
   },
   "file_extension": ".py",
   "mimetype": "text/x-python",
   "name": "python",
   "nbconvert_exporter": "python",
   "pygments_lexer": "ipython3",
   "version": "3.7.4"
  }
 },
 "nbformat": 4,
 "nbformat_minor": 2
}
